{
 "cells": [
  {
   "cell_type": "code",
   "execution_count": 2,
   "id": "beee04d7-61ee-47a3-95d7-ffb172c7fe41",
   "metadata": {},
   "outputs": [
    {
     "name": "stdout",
     "output_type": "stream",
     "text": [
      "Sent: 1\n",
      "Sent: 2\n",
      "Sent: 3\n"
     ]
    }
   ],
   "source": [
    "\n"
   ]
  },
  {
   "cell_type": "code",
   "execution_count": 4,
   "id": "d748e3a0-fc2e-46cc-9682-f964aacaf8c5",
   "metadata": {},
   "outputs": [
    {
     "name": "stdout",
     "output_type": "stream",
     "text": [
      "Camera 0 is available.\n",
      "Camera 1 is available.\n",
      "Select a camera from the available list:\n",
      "0: Camera 0\n",
      "1: Camera 1\n"
     ]
    },
    {
     "name": "stdin",
     "output_type": "stream",
     "text": [
      "Enter the index of the camera to use:  1\n"
     ]
    },
    {
     "name": "stdout",
     "output_type": "stream",
     "text": [
      "Error: could not open port 'COM9': PermissionError(13, 'Access is denied.', None, 5)\n",
      "Failed to capture image.\n"
     ]
    }
   ],
   "source": [
    "from keras.models import load_model  # TensorFlow is required for Keras to work\n",
    "import cv2  # Install opencv-python\n",
    "import numpy as np\n",
    "import serial  # Install pyserial\n",
    "\n",
    "# Disable scientific notation for clarity\n",
    "np.set_printoptions(suppress=True)\n",
    "\n",
    "# Load the model\n",
    "model = load_model(\"keras_Model.h5\", compile=False)\n",
    "\n",
    "# Load the labels\n",
    "with open(\"labels.txt\", \"r\") as file:\n",
    "    class_names = [line.strip() for line in file.readlines()]\n",
    "\n",
    "# Define pest control categories and corresponding serial commands\n",
    "pest_control_categories = {\n",
    "    \"Ants\": \"Vacuum System\",\n",
    "    \"Bees\": \"Non-Target\",\n",
    "    \"Bettles\": \"Vacuum System\",\n",
    "    \"Caterpillar\": \"Vacuum System\",\n",
    "    \"Earthworms\": \"Non-Target\",\n",
    "    \"Earwig\": \"Vacuum System\",\n",
    "    \"Grasshopper\": \"Fogging System\",\n",
    "    \"Moth\": \"Light Trap\",\n",
    "    \"Slug\": \"Non-Target\",\n",
    "    \"Snail\": \"Non-Target\",\n",
    "    \"Wasp\": \"Non-Target\",\n",
    "    \"Weevil\": \"Vacuum System\"\n",
    "}\n",
    "\n",
    "control_commands = {\n",
    "    \"Vacuum System\": '2',\n",
    "    \"Light Trap\": '3',\n",
    "    \"Fogging System\": '1',\n",
    "    \"Non-Target\": '4'\n",
    "}\n",
    "\n",
    "# Detect available cameras\n",
    "available_cameras = []\n",
    "for i in range(10):\n",
    "    test_camera = cv2.VideoCapture(i)\n",
    "    if test_camera.isOpened():\n",
    "        print(f\"Camera {i} is available.\")\n",
    "        available_cameras.append(i)\n",
    "    test_camera.release()\n",
    "\n",
    "if not available_cameras:\n",
    "    print(\"No cameras found.\")\n",
    "    exit()\n",
    "\n",
    "# Prompt user to select a camera\n",
    "print(\"Select a camera from the available list:\")\n",
    "for index, cam in enumerate(available_cameras):\n",
    "    print(f\"{index}: Camera {cam}\")\n",
    "\n",
    "try:\n",
    "    selected_camera_index = int(input(\"Enter the index of the camera to use: \"))\n",
    "    camera_index = available_cameras[selected_camera_index]\n",
    "except (ValueError, IndexError):\n",
    "    print(\"Invalid selection.\")\n",
    "    exit()\n",
    "\n",
    "camera = cv2.VideoCapture(camera_index)\n",
    "\n",
    "# Initialize serial communication (adjust 'COM9' to your serial port)\n",
    "try:\n",
    "    ser = serial.Serial('COM9', 9600)  # Replace 'COM9' with your port as needed\n",
    "except serial.SerialException as e:\n",
    "    print(f\"Error: {e}\")\n",
    "    camera.release()\n",
    "    cv2.destroyAllWindows()\n",
    "    exit()\n",
    "\n",
    "# Capture a single frame from the camera\n",
    "ret, image = camera.read()\n",
    "\n",
    "if ret:\n",
    "    # Resize and normalize the image\n",
    "    image = cv2.resize(image, (224, 224), interpolation=cv2.INTER_AREA)\n",
    "    image_array = np.asarray(image, dtype=np.float32).reshape(1, 224, 224, 3)\n",
    "    image_array = (image_array / 127.5) - 1  # Normalize\n",
    "\n",
    "    # Display the image in a window\n",
    "    cv2.imshow(\"Captured Image\", image)\n",
    "    cv2.waitKey(2000)  # Display the image for 2 seconds\n",
    "\n",
    "    # Predict using the model\n",
    "    prediction = model.predict(image_array)\n",
    "    index = np.argmax(prediction)\n",
    "    class_name = class_names[index]  # Predicted class name\n",
    "    confidence_score = prediction[0][index] * 100  # Convert to percentage\n",
    "\n",
    "    # Print prediction and confidence score\n",
    "    print(f\"Class: {class_name[2:]}  Confidence Score: {confidence_score:.2f}%\")\n",
    "\n",
    "    # Determine pest control action\n",
    "    detect_class = pest_control_categories[class_name[2:]]\n",
    "    command = control_commands[detect_class]\n",
    "\n",
    "    # Send command via serial if available\n",
    "    if command:\n",
    "        ser.write(command.encode())\n",
    "        print(f\"Sent command '{command}' for '{detect_class}'\")\n",
    "else:\n",
    "    print(\"Failed to capture image.\")\n",
    "\n",
    "# Cleanup\n",
    "camera.release()\n",
    "cv2.destroyAllWindows()\n",
    "ser.close()"
   ]
  },
  {
   "cell_type": "code",
   "execution_count": null,
   "id": "15e109cd-3074-4e31-a506-aa9a4bde23ee",
   "metadata": {},
   "outputs": [],
   "source": []
  }
 ],
 "metadata": {
  "kernelspec": {
   "display_name": "Python 3 (ipykernel)",
   "language": "python",
   "name": "python3"
  },
  "language_info": {
   "codemirror_mode": {
    "name": "ipython",
    "version": 3
   },
   "file_extension": ".py",
   "mimetype": "text/x-python",
   "name": "python",
   "nbconvert_exporter": "python",
   "pygments_lexer": "ipython3",
   "version": "3.11.7"
  }
 },
 "nbformat": 4,
 "nbformat_minor": 5
}
